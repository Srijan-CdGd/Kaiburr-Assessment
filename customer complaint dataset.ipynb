{
 "cells": [
  {
   "cell_type": "markdown",
   "id": "06a136c1",
   "metadata": {},
   "source": [
    "## Importing package and loading data"
   ]
  },
  {
   "cell_type": "code",
   "execution_count": 38,
   "id": "fadac139",
   "metadata": {},
   "outputs": [],
   "source": [
    "# Importing required libraries\n",
    "\n",
    "import pandas as pd\n",
    "import numpy as np\n",
    "import matplotlib.pyplot as plt\n",
    "import seaborn as sns\n",
    "\n",
    "from sklearn.feature_extraction.text import TfidfVectorizer\n",
    "from sklearn.feature_selection import chi2\n",
    "from IPython.display import display\n",
    "from sklearn.model_selection import train_test_split\n",
    "\n",
    "from sklearn.feature_extraction.text import TfidfTransformer\n",
    "from sklearn.naive_bayes import MultinomialNB\n",
    "from sklearn.linear_model import LogisticRegression\n",
    "from sklearn.svm import LinearSVC\n",
    "from sklearn.ensemble import RandomForestClassifier, AdaBoostClassifier\n",
    "\n",
    "from sklearn.model_selection import cross_val_score\n",
    "from sklearn.metrics import confusion_matrix\n",
    "from sklearn import metrics"
   ]
  },
  {
   "cell_type": "code",
   "execution_count": 39,
   "id": "a4ecc4ca",
   "metadata": {},
   "outputs": [
    {
     "data": {
      "text/plain": [
       "(4065103, 18)"
      ]
     },
     "execution_count": 39,
     "metadata": {},
     "output_type": "execute_result"
    }
   ],
   "source": [
    "# loading data\n",
    "\n",
    "df = pd.read_csv('complaints.csv')\n",
    "df.shape"
   ]
  },
  {
   "cell_type": "code",
   "execution_count": 40,
   "id": "68fd1145",
   "metadata": {},
   "outputs": [
    {
     "data": {
      "text/html": [
       "<div>\n",
       "<style scoped>\n",
       "    .dataframe tbody tr th:only-of-type {\n",
       "        vertical-align: middle;\n",
       "    }\n",
       "\n",
       "    .dataframe tbody tr th {\n",
       "        vertical-align: top;\n",
       "    }\n",
       "\n",
       "    .dataframe thead th {\n",
       "        text-align: right;\n",
       "    }\n",
       "</style>\n",
       "<table border=\"1\" class=\"dataframe\">\n",
       "  <thead>\n",
       "    <tr style=\"text-align: right;\">\n",
       "      <th></th>\n",
       "      <th>Date received</th>\n",
       "      <th>Product</th>\n",
       "      <th>Sub-product</th>\n",
       "      <th>Issue</th>\n",
       "      <th>Sub-issue</th>\n",
       "      <th>Consumer complaint narrative</th>\n",
       "      <th>Company public response</th>\n",
       "      <th>Company</th>\n",
       "      <th>State</th>\n",
       "      <th>ZIP code</th>\n",
       "      <th>Tags</th>\n",
       "      <th>Consumer consent provided?</th>\n",
       "      <th>Submitted via</th>\n",
       "      <th>Date sent to company</th>\n",
       "      <th>Company response to consumer</th>\n",
       "      <th>Timely response?</th>\n",
       "      <th>Consumer disputed?</th>\n",
       "      <th>Complaint ID</th>\n",
       "    </tr>\n",
       "  </thead>\n",
       "  <tbody>\n",
       "    <tr>\n",
       "      <th>1156298</th>\n",
       "      <td>2018-04-18</td>\n",
       "      <td>Credit card or prepaid card</td>\n",
       "      <td>General-purpose credit card or charge card</td>\n",
       "      <td>Other features, terms, or problems</td>\n",
       "      <td>Problem with rewards from credit card</td>\n",
       "      <td>I submitted a claim three months ago, quoted a...</td>\n",
       "      <td>NaN</td>\n",
       "      <td>AMERICAN EXPRESS COMPANY</td>\n",
       "      <td>IA</td>\n",
       "      <td>501XX</td>\n",
       "      <td>NaN</td>\n",
       "      <td>Consent provided</td>\n",
       "      <td>Web</td>\n",
       "      <td>2018-04-18</td>\n",
       "      <td>Closed with non-monetary relief</td>\n",
       "      <td>Yes</td>\n",
       "      <td>NaN</td>\n",
       "      <td>2878081</td>\n",
       "    </tr>\n",
       "    <tr>\n",
       "      <th>2362237</th>\n",
       "      <td>2020-07-21</td>\n",
       "      <td>Credit reporting, credit repair services, or o...</td>\n",
       "      <td>Credit reporting</td>\n",
       "      <td>Incorrect information on your report</td>\n",
       "      <td>Information belongs to someone else</td>\n",
       "      <td>NaN</td>\n",
       "      <td>NaN</td>\n",
       "      <td>EQUIFAX, INC.</td>\n",
       "      <td>NY</td>\n",
       "      <td>10033</td>\n",
       "      <td>NaN</td>\n",
       "      <td>Other</td>\n",
       "      <td>Web</td>\n",
       "      <td>2020-07-21</td>\n",
       "      <td>Closed with explanation</td>\n",
       "      <td>Yes</td>\n",
       "      <td>NaN</td>\n",
       "      <td>3755932</td>\n",
       "    </tr>\n",
       "    <tr>\n",
       "      <th>3324084</th>\n",
       "      <td>2023-07-21</td>\n",
       "      <td>Credit reporting, credit repair services, or o...</td>\n",
       "      <td>Credit reporting</td>\n",
       "      <td>Problem with a credit reporting company's inve...</td>\n",
       "      <td>Their investigation did not fix an error on yo...</td>\n",
       "      <td>NaN</td>\n",
       "      <td>NaN</td>\n",
       "      <td>Experian Information Solutions Inc.</td>\n",
       "      <td>IL</td>\n",
       "      <td>60628</td>\n",
       "      <td>NaN</td>\n",
       "      <td>NaN</td>\n",
       "      <td>Web</td>\n",
       "      <td>2023-07-21</td>\n",
       "      <td>In progress</td>\n",
       "      <td>Yes</td>\n",
       "      <td>NaN</td>\n",
       "      <td>7284113</td>\n",
       "    </tr>\n",
       "    <tr>\n",
       "      <th>2166395</th>\n",
       "      <td>2023-08-09</td>\n",
       "      <td>Credit reporting, credit repair services, or o...</td>\n",
       "      <td>Credit reporting</td>\n",
       "      <td>Improper use of your report</td>\n",
       "      <td>Reporting company used your report improperly</td>\n",
       "      <td>NaN</td>\n",
       "      <td>NaN</td>\n",
       "      <td>Experian Information Solutions Inc.</td>\n",
       "      <td>IL</td>\n",
       "      <td>60609</td>\n",
       "      <td>NaN</td>\n",
       "      <td>NaN</td>\n",
       "      <td>Web</td>\n",
       "      <td>2023-08-09</td>\n",
       "      <td>In progress</td>\n",
       "      <td>Yes</td>\n",
       "      <td>NaN</td>\n",
       "      <td>7376027</td>\n",
       "    </tr>\n",
       "    <tr>\n",
       "      <th>1358530</th>\n",
       "      <td>2022-12-14</td>\n",
       "      <td>Credit reporting, credit repair services, or o...</td>\n",
       "      <td>Credit reporting</td>\n",
       "      <td>Improper use of your report</td>\n",
       "      <td>Reporting company used your report improperly</td>\n",
       "      <td>NaN</td>\n",
       "      <td>Company has responded to the consumer and the ...</td>\n",
       "      <td>Experian Information Solutions Inc.</td>\n",
       "      <td>MO</td>\n",
       "      <td>63701</td>\n",
       "      <td>NaN</td>\n",
       "      <td>Consent not provided</td>\n",
       "      <td>Web</td>\n",
       "      <td>2022-12-14</td>\n",
       "      <td>Closed with explanation</td>\n",
       "      <td>Yes</td>\n",
       "      <td>NaN</td>\n",
       "      <td>6321786</td>\n",
       "    </tr>\n",
       "    <tr>\n",
       "      <th>3741697</th>\n",
       "      <td>2015-01-26</td>\n",
       "      <td>Debt collection</td>\n",
       "      <td>Other (i.e. phone, health club, etc.)</td>\n",
       "      <td>Cont'd attempts collect debt not owed</td>\n",
       "      <td>Debt is not mine</td>\n",
       "      <td>NaN</td>\n",
       "      <td>NaN</td>\n",
       "      <td>AFNI INC.</td>\n",
       "      <td>TX</td>\n",
       "      <td>76119</td>\n",
       "      <td>NaN</td>\n",
       "      <td>NaN</td>\n",
       "      <td>Web</td>\n",
       "      <td>2015-01-26</td>\n",
       "      <td>Closed with explanation</td>\n",
       "      <td>Yes</td>\n",
       "      <td>No</td>\n",
       "      <td>1209427</td>\n",
       "    </tr>\n",
       "    <tr>\n",
       "      <th>958652</th>\n",
       "      <td>2023-02-11</td>\n",
       "      <td>Credit reporting, credit repair services, or o...</td>\n",
       "      <td>Credit reporting</td>\n",
       "      <td>Improper use of your report</td>\n",
       "      <td>Reporting company used your report improperly</td>\n",
       "      <td>NaN</td>\n",
       "      <td>NaN</td>\n",
       "      <td>Factor Trust</td>\n",
       "      <td>NV</td>\n",
       "      <td>89121</td>\n",
       "      <td>NaN</td>\n",
       "      <td>Consent not provided</td>\n",
       "      <td>Web</td>\n",
       "      <td>2023-02-11</td>\n",
       "      <td>Closed with explanation</td>\n",
       "      <td>Yes</td>\n",
       "      <td>NaN</td>\n",
       "      <td>6559934</td>\n",
       "    </tr>\n",
       "    <tr>\n",
       "      <th>2079090</th>\n",
       "      <td>2016-06-06</td>\n",
       "      <td>Mortgage</td>\n",
       "      <td>Conventional fixed mortgage</td>\n",
       "      <td>Loan modification,collection,foreclosure</td>\n",
       "      <td>NaN</td>\n",
       "      <td>NaN</td>\n",
       "      <td>NaN</td>\n",
       "      <td>CARRINGTON MORTGAGE SERVICES, LLC</td>\n",
       "      <td>OH</td>\n",
       "      <td>43207</td>\n",
       "      <td>Older American, Servicemember</td>\n",
       "      <td>NaN</td>\n",
       "      <td>Phone</td>\n",
       "      <td>2016-06-08</td>\n",
       "      <td>Closed with explanation</td>\n",
       "      <td>Yes</td>\n",
       "      <td>No</td>\n",
       "      <td>1956248</td>\n",
       "    </tr>\n",
       "    <tr>\n",
       "      <th>2766163</th>\n",
       "      <td>2019-07-03</td>\n",
       "      <td>Student loan</td>\n",
       "      <td>Private student loan</td>\n",
       "      <td>Dealing with your lender or servicer</td>\n",
       "      <td>Trouble with how payments are being handled</td>\n",
       "      <td>On XX/XX/19 I used the online service with Dis...</td>\n",
       "      <td>NaN</td>\n",
       "      <td>DISCOVER BANK</td>\n",
       "      <td>WY</td>\n",
       "      <td>82070</td>\n",
       "      <td>NaN</td>\n",
       "      <td>Consent provided</td>\n",
       "      <td>Web</td>\n",
       "      <td>2019-07-04</td>\n",
       "      <td>Closed with non-monetary relief</td>\n",
       "      <td>Yes</td>\n",
       "      <td>NaN</td>\n",
       "      <td>3295886</td>\n",
       "    </tr>\n",
       "    <tr>\n",
       "      <th>1279531</th>\n",
       "      <td>2022-12-15</td>\n",
       "      <td>Credit card or prepaid card</td>\n",
       "      <td>General-purpose credit card or charge card</td>\n",
       "      <td>Problem when making payments</td>\n",
       "      <td>Problem during payment process</td>\n",
       "      <td>My XXXX XXXX XXXX  that was serviced by XXXX  ...</td>\n",
       "      <td>NaN</td>\n",
       "      <td>Bread Financial Holdings, Inc.</td>\n",
       "      <td>RI</td>\n",
       "      <td>02816</td>\n",
       "      <td>NaN</td>\n",
       "      <td>Consent provided</td>\n",
       "      <td>Web</td>\n",
       "      <td>2022-12-29</td>\n",
       "      <td>Closed with monetary relief</td>\n",
       "      <td>Yes</td>\n",
       "      <td>NaN</td>\n",
       "      <td>6326440</td>\n",
       "    </tr>\n",
       "  </tbody>\n",
       "</table>\n",
       "</div>"
      ],
      "text/plain": [
       "        Date received                                            Product  \\\n",
       "1156298    2018-04-18                        Credit card or prepaid card   \n",
       "2362237    2020-07-21  Credit reporting, credit repair services, or o...   \n",
       "3324084    2023-07-21  Credit reporting, credit repair services, or o...   \n",
       "2166395    2023-08-09  Credit reporting, credit repair services, or o...   \n",
       "1358530    2022-12-14  Credit reporting, credit repair services, or o...   \n",
       "3741697    2015-01-26                                    Debt collection   \n",
       "958652     2023-02-11  Credit reporting, credit repair services, or o...   \n",
       "2079090    2016-06-06                                           Mortgage   \n",
       "2766163    2019-07-03                                       Student loan   \n",
       "1279531    2022-12-15                        Credit card or prepaid card   \n",
       "\n",
       "                                        Sub-product  \\\n",
       "1156298  General-purpose credit card or charge card   \n",
       "2362237                            Credit reporting   \n",
       "3324084                            Credit reporting   \n",
       "2166395                            Credit reporting   \n",
       "1358530                            Credit reporting   \n",
       "3741697       Other (i.e. phone, health club, etc.)   \n",
       "958652                             Credit reporting   \n",
       "2079090                 Conventional fixed mortgage   \n",
       "2766163                        Private student loan   \n",
       "1279531  General-purpose credit card or charge card   \n",
       "\n",
       "                                                     Issue  \\\n",
       "1156298                 Other features, terms, or problems   \n",
       "2362237               Incorrect information on your report   \n",
       "3324084  Problem with a credit reporting company's inve...   \n",
       "2166395                        Improper use of your report   \n",
       "1358530                        Improper use of your report   \n",
       "3741697              Cont'd attempts collect debt not owed   \n",
       "958652                         Improper use of your report   \n",
       "2079090           Loan modification,collection,foreclosure   \n",
       "2766163               Dealing with your lender or servicer   \n",
       "1279531                       Problem when making payments   \n",
       "\n",
       "                                                 Sub-issue  \\\n",
       "1156298              Problem with rewards from credit card   \n",
       "2362237                Information belongs to someone else   \n",
       "3324084  Their investigation did not fix an error on yo...   \n",
       "2166395      Reporting company used your report improperly   \n",
       "1358530      Reporting company used your report improperly   \n",
       "3741697                                   Debt is not mine   \n",
       "958652       Reporting company used your report improperly   \n",
       "2079090                                                NaN   \n",
       "2766163        Trouble with how payments are being handled   \n",
       "1279531                     Problem during payment process   \n",
       "\n",
       "                              Consumer complaint narrative  \\\n",
       "1156298  I submitted a claim three months ago, quoted a...   \n",
       "2362237                                                NaN   \n",
       "3324084                                                NaN   \n",
       "2166395                                                NaN   \n",
       "1358530                                                NaN   \n",
       "3741697                                                NaN   \n",
       "958652                                                 NaN   \n",
       "2079090                                                NaN   \n",
       "2766163  On XX/XX/19 I used the online service with Dis...   \n",
       "1279531  My XXXX XXXX XXXX  that was serviced by XXXX  ...   \n",
       "\n",
       "                                   Company public response  \\\n",
       "1156298                                                NaN   \n",
       "2362237                                                NaN   \n",
       "3324084                                                NaN   \n",
       "2166395                                                NaN   \n",
       "1358530  Company has responded to the consumer and the ...   \n",
       "3741697                                                NaN   \n",
       "958652                                                 NaN   \n",
       "2079090                                                NaN   \n",
       "2766163                                                NaN   \n",
       "1279531                                                NaN   \n",
       "\n",
       "                                     Company State ZIP code  \\\n",
       "1156298             AMERICAN EXPRESS COMPANY    IA    501XX   \n",
       "2362237                        EQUIFAX, INC.    NY    10033   \n",
       "3324084  Experian Information Solutions Inc.    IL    60628   \n",
       "2166395  Experian Information Solutions Inc.    IL    60609   \n",
       "1358530  Experian Information Solutions Inc.    MO    63701   \n",
       "3741697                            AFNI INC.    TX    76119   \n",
       "958652                          Factor Trust    NV    89121   \n",
       "2079090    CARRINGTON MORTGAGE SERVICES, LLC    OH    43207   \n",
       "2766163                        DISCOVER BANK    WY    82070   \n",
       "1279531       Bread Financial Holdings, Inc.    RI    02816   \n",
       "\n",
       "                                  Tags Consumer consent provided?  \\\n",
       "1156298                            NaN           Consent provided   \n",
       "2362237                            NaN                      Other   \n",
       "3324084                            NaN                        NaN   \n",
       "2166395                            NaN                        NaN   \n",
       "1358530                            NaN       Consent not provided   \n",
       "3741697                            NaN                        NaN   \n",
       "958652                             NaN       Consent not provided   \n",
       "2079090  Older American, Servicemember                        NaN   \n",
       "2766163                            NaN           Consent provided   \n",
       "1279531                            NaN           Consent provided   \n",
       "\n",
       "        Submitted via Date sent to company     Company response to consumer  \\\n",
       "1156298           Web           2018-04-18  Closed with non-monetary relief   \n",
       "2362237           Web           2020-07-21          Closed with explanation   \n",
       "3324084           Web           2023-07-21                      In progress   \n",
       "2166395           Web           2023-08-09                      In progress   \n",
       "1358530           Web           2022-12-14          Closed with explanation   \n",
       "3741697           Web           2015-01-26          Closed with explanation   \n",
       "958652            Web           2023-02-11          Closed with explanation   \n",
       "2079090         Phone           2016-06-08          Closed with explanation   \n",
       "2766163           Web           2019-07-04  Closed with non-monetary relief   \n",
       "1279531           Web           2022-12-29      Closed with monetary relief   \n",
       "\n",
       "        Timely response? Consumer disputed?  Complaint ID  \n",
       "1156298              Yes                NaN       2878081  \n",
       "2362237              Yes                NaN       3755932  \n",
       "3324084              Yes                NaN       7284113  \n",
       "2166395              Yes                NaN       7376027  \n",
       "1358530              Yes                NaN       6321786  \n",
       "3741697              Yes                 No       1209427  \n",
       "958652               Yes                NaN       6559934  \n",
       "2079090              Yes                 No       1956248  \n",
       "2766163              Yes                NaN       3295886  \n",
       "1279531              Yes                NaN       6326440  "
      ]
     },
     "execution_count": 40,
     "metadata": {},
     "output_type": "execute_result"
    }
   ],
   "source": [
    "df.sample(10)"
   ]
  },
  {
   "cell_type": "markdown",
   "id": "97ce00df",
   "metadata": {},
   "source": [
    "## Exploratory data Anaylysis and Feature Engineering"
   ]
  },
  {
   "cell_type": "code",
   "execution_count": 41,
   "id": "8abae551",
   "metadata": {},
   "outputs": [
    {
     "data": {
      "text/html": [
       "<div>\n",
       "<style scoped>\n",
       "    .dataframe tbody tr th:only-of-type {\n",
       "        vertical-align: middle;\n",
       "    }\n",
       "\n",
       "    .dataframe tbody tr th {\n",
       "        vertical-align: top;\n",
       "    }\n",
       "\n",
       "    .dataframe thead th {\n",
       "        text-align: right;\n",
       "    }\n",
       "</style>\n",
       "<table border=\"1\" class=\"dataframe\">\n",
       "  <thead>\n",
       "    <tr style=\"text-align: right;\">\n",
       "      <th></th>\n",
       "      <th>3120610</th>\n",
       "      <th>1275766</th>\n",
       "    </tr>\n",
       "  </thead>\n",
       "  <tbody>\n",
       "    <tr>\n",
       "      <th>Date received</th>\n",
       "      <td>2023-01-25</td>\n",
       "      <td>2017-05-17</td>\n",
       "    </tr>\n",
       "    <tr>\n",
       "      <th>Product</th>\n",
       "      <td>Credit card or prepaid card</td>\n",
       "      <td>Debt collection</td>\n",
       "    </tr>\n",
       "    <tr>\n",
       "      <th>Sub-product</th>\n",
       "      <td>General-purpose credit card or charge card</td>\n",
       "      <td>Credit card debt</td>\n",
       "    </tr>\n",
       "    <tr>\n",
       "      <th>Issue</th>\n",
       "      <td>Problem with a purchase shown on your statement</td>\n",
       "      <td>Attempts to collect debt not owed</td>\n",
       "    </tr>\n",
       "    <tr>\n",
       "      <th>Sub-issue</th>\n",
       "      <td>Credit card company isn't resolving a dispute ...</td>\n",
       "      <td>Debt was already discharged in bankruptcy and ...</td>\n",
       "    </tr>\n",
       "    <tr>\n",
       "      <th>Consumer complaint narrative</th>\n",
       "      <td>Late payment is inaccurate, was never late Cal...</td>\n",
       "      <td>On  XXXX / XXXX /  XXXX   my employer received...</td>\n",
       "    </tr>\n",
       "    <tr>\n",
       "      <th>Company public response</th>\n",
       "      <td>NaN</td>\n",
       "      <td>NaN</td>\n",
       "    </tr>\n",
       "    <tr>\n",
       "      <th>Company</th>\n",
       "      <td>CAPITAL ONE FINANCIAL CORPORATION</td>\n",
       "      <td>Forster &amp; Garbus LLP</td>\n",
       "    </tr>\n",
       "    <tr>\n",
       "      <th>State</th>\n",
       "      <td>NY</td>\n",
       "      <td>NY</td>\n",
       "    </tr>\n",
       "    <tr>\n",
       "      <th>ZIP code</th>\n",
       "      <td>11727</td>\n",
       "      <td>12550</td>\n",
       "    </tr>\n",
       "    <tr>\n",
       "      <th>Tags</th>\n",
       "      <td>NaN</td>\n",
       "      <td>NaN</td>\n",
       "    </tr>\n",
       "    <tr>\n",
       "      <th>Consumer consent provided?</th>\n",
       "      <td>Consent provided</td>\n",
       "      <td>Consent provided</td>\n",
       "    </tr>\n",
       "    <tr>\n",
       "      <th>Submitted via</th>\n",
       "      <td>Web</td>\n",
       "      <td>Web</td>\n",
       "    </tr>\n",
       "    <tr>\n",
       "      <th>Date sent to company</th>\n",
       "      <td>2023-01-25</td>\n",
       "      <td>2017-06-07</td>\n",
       "    </tr>\n",
       "    <tr>\n",
       "      <th>Company response to consumer</th>\n",
       "      <td>Closed with non-monetary relief</td>\n",
       "      <td>Closed with explanation</td>\n",
       "    </tr>\n",
       "    <tr>\n",
       "      <th>Timely response?</th>\n",
       "      <td>Yes</td>\n",
       "      <td>Yes</td>\n",
       "    </tr>\n",
       "    <tr>\n",
       "      <th>Consumer disputed?</th>\n",
       "      <td>NaN</td>\n",
       "      <td>NaN</td>\n",
       "    </tr>\n",
       "    <tr>\n",
       "      <th>Complaint ID</th>\n",
       "      <td>6478187</td>\n",
       "      <td>2534364</td>\n",
       "    </tr>\n",
       "  </tbody>\n",
       "</table>\n",
       "</div>"
      ],
      "text/plain": [
       "                                                                        3120610  \\\n",
       "Date received                                                        2023-01-25   \n",
       "Product                                             Credit card or prepaid card   \n",
       "Sub-product                          General-purpose credit card or charge card   \n",
       "Issue                           Problem with a purchase shown on your statement   \n",
       "Sub-issue                     Credit card company isn't resolving a dispute ...   \n",
       "Consumer complaint narrative  Late payment is inaccurate, was never late Cal...   \n",
       "Company public response                                                     NaN   \n",
       "Company                                       CAPITAL ONE FINANCIAL CORPORATION   \n",
       "State                                                                        NY   \n",
       "ZIP code                                                                  11727   \n",
       "Tags                                                                        NaN   \n",
       "Consumer consent provided?                                     Consent provided   \n",
       "Submitted via                                                               Web   \n",
       "Date sent to company                                                 2023-01-25   \n",
       "Company response to consumer                    Closed with non-monetary relief   \n",
       "Timely response?                                                            Yes   \n",
       "Consumer disputed?                                                          NaN   \n",
       "Complaint ID                                                            6478187   \n",
       "\n",
       "                                                                        1275766  \n",
       "Date received                                                        2017-05-17  \n",
       "Product                                                         Debt collection  \n",
       "Sub-product                                                    Credit card debt  \n",
       "Issue                                         Attempts to collect debt not owed  \n",
       "Sub-issue                     Debt was already discharged in bankruptcy and ...  \n",
       "Consumer complaint narrative  On  XXXX / XXXX /  XXXX   my employer received...  \n",
       "Company public response                                                     NaN  \n",
       "Company                                                    Forster & Garbus LLP  \n",
       "State                                                                        NY  \n",
       "ZIP code                                                                  12550  \n",
       "Tags                                                                        NaN  \n",
       "Consumer consent provided?                                     Consent provided  \n",
       "Submitted via                                                               Web  \n",
       "Date sent to company                                                 2017-06-07  \n",
       "Company response to consumer                            Closed with explanation  \n",
       "Timely response?                                                            Yes  \n",
       "Consumer disputed?                                                          NaN  \n",
       "Complaint ID                                                            2534364  "
      ]
     },
     "execution_count": 41,
     "metadata": {},
     "output_type": "execute_result"
    }
   ],
   "source": [
    "df.sample(2, random_state=0).T"
   ]
  },
  {
   "cell_type": "markdown",
   "id": "22ddfefb",
   "metadata": {},
   "source": [
    "Here we can work with either of the columns Issue or customer complaint narrative but to be precise with the mmodel output we stick with the narrtive as it has more detailed explanation and can help us to get more precise model."
   ]
  },
  {
   "cell_type": "code",
   "execution_count": 42,
   "id": "22bfaef9",
   "metadata": {},
   "outputs": [
    {
     "data": {
      "text/html": [
       "<div>\n",
       "<style scoped>\n",
       "    .dataframe tbody tr th:only-of-type {\n",
       "        vertical-align: middle;\n",
       "    }\n",
       "\n",
       "    .dataframe tbody tr th {\n",
       "        vertical-align: top;\n",
       "    }\n",
       "\n",
       "    .dataframe thead th {\n",
       "        text-align: right;\n",
       "    }\n",
       "</style>\n",
       "<table border=\"1\" class=\"dataframe\">\n",
       "  <thead>\n",
       "    <tr style=\"text-align: right;\">\n",
       "      <th></th>\n",
       "      <th>Product</th>\n",
       "      <th>Consumer complaint narrative</th>\n",
       "    </tr>\n",
       "  </thead>\n",
       "  <tbody>\n",
       "    <tr>\n",
       "      <th>0</th>\n",
       "      <td>Money transfer, virtual currency, or money ser...</td>\n",
       "      <td>NaN</td>\n",
       "    </tr>\n",
       "    <tr>\n",
       "      <th>1</th>\n",
       "      <td>Debt collection</td>\n",
       "      <td>NaN</td>\n",
       "    </tr>\n",
       "    <tr>\n",
       "      <th>2</th>\n",
       "      <td>Checking or savings account</td>\n",
       "      <td>NaN</td>\n",
       "    </tr>\n",
       "    <tr>\n",
       "      <th>3</th>\n",
       "      <td>Debt collection</td>\n",
       "      <td>NaN</td>\n",
       "    </tr>\n",
       "    <tr>\n",
       "      <th>4</th>\n",
       "      <td>Credit reporting or other personal consumer re...</td>\n",
       "      <td>NaN</td>\n",
       "    </tr>\n",
       "    <tr>\n",
       "      <th>...</th>\n",
       "      <td>...</td>\n",
       "      <td>...</td>\n",
       "    </tr>\n",
       "    <tr>\n",
       "      <th>4065098</th>\n",
       "      <td>Credit card</td>\n",
       "      <td>NaN</td>\n",
       "    </tr>\n",
       "    <tr>\n",
       "      <th>4065099</th>\n",
       "      <td>Credit reporting</td>\n",
       "      <td>NaN</td>\n",
       "    </tr>\n",
       "    <tr>\n",
       "      <th>4065100</th>\n",
       "      <td>Mortgage</td>\n",
       "      <td>NaN</td>\n",
       "    </tr>\n",
       "    <tr>\n",
       "      <th>4065101</th>\n",
       "      <td>Debt collection</td>\n",
       "      <td>NaN</td>\n",
       "    </tr>\n",
       "    <tr>\n",
       "      <th>4065102</th>\n",
       "      <td>Checking or savings account</td>\n",
       "      <td>NaN</td>\n",
       "    </tr>\n",
       "  </tbody>\n",
       "</table>\n",
       "<p>4065103 rows × 2 columns</p>\n",
       "</div>"
      ],
      "text/plain": [
       "                                                   Product  \\\n",
       "0        Money transfer, virtual currency, or money ser...   \n",
       "1                                          Debt collection   \n",
       "2                              Checking or savings account   \n",
       "3                                          Debt collection   \n",
       "4        Credit reporting or other personal consumer re...   \n",
       "...                                                    ...   \n",
       "4065098                                        Credit card   \n",
       "4065099                                   Credit reporting   \n",
       "4065100                                           Mortgage   \n",
       "4065101                                    Debt collection   \n",
       "4065102                        Checking or savings account   \n",
       "\n",
       "        Consumer complaint narrative  \n",
       "0                                NaN  \n",
       "1                                NaN  \n",
       "2                                NaN  \n",
       "3                                NaN  \n",
       "4                                NaN  \n",
       "...                              ...  \n",
       "4065098                          NaN  \n",
       "4065099                          NaN  \n",
       "4065100                          NaN  \n",
       "4065101                          NaN  \n",
       "4065102                          NaN  \n",
       "\n",
       "[4065103 rows x 2 columns]"
      ]
     },
     "execution_count": 42,
     "metadata": {},
     "output_type": "execute_result"
    }
   ],
   "source": [
    "# create a working data frame with two required columns a.k.a wdf\n",
    "\n",
    "wdf = df[['Product', 'Consumer complaint narrative']].copy()\n",
    "wdf"
   ]
  },
  {
   "cell_type": "code",
   "execution_count": 43,
   "id": "8d43a72f",
   "metadata": {},
   "outputs": [
    {
     "data": {
      "text/plain": [
       "Product                               0\n",
       "Consumer complaint narrative    2592900\n",
       "dtype: int64"
      ]
     },
     "execution_count": 43,
     "metadata": {},
     "output_type": "execute_result"
    }
   ],
   "source": [
    "# checking the missing values\n",
    "\n",
    "wdf.isna().sum()"
   ]
  },
  {
   "cell_type": "code",
   "execution_count": 44,
   "id": "f506f362",
   "metadata": {
    "scrolled": true
   },
   "outputs": [
    {
     "name": "stdout",
     "output_type": "stream",
     "text": [
      "Product                         1472203\n",
      "Consumer complaint narrative    1472203\n",
      "dtype: int64\n"
     ]
    },
    {
     "data": {
      "text/html": [
       "<div>\n",
       "<style scoped>\n",
       "    .dataframe tbody tr th:only-of-type {\n",
       "        vertical-align: middle;\n",
       "    }\n",
       "\n",
       "    .dataframe tbody tr th {\n",
       "        vertical-align: top;\n",
       "    }\n",
       "\n",
       "    .dataframe thead th {\n",
       "        text-align: right;\n",
       "    }\n",
       "</style>\n",
       "<table border=\"1\" class=\"dataframe\">\n",
       "  <thead>\n",
       "    <tr style=\"text-align: right;\">\n",
       "      <th></th>\n",
       "      <th>Product</th>\n",
       "      <th>Consumer complaint narrative</th>\n",
       "    </tr>\n",
       "  </thead>\n",
       "  <tbody>\n",
       "    <tr>\n",
       "      <th>149</th>\n",
       "      <td>Mortgage</td>\n",
       "      <td>On XX/XX/ I made a written request to have PMI...</td>\n",
       "    </tr>\n",
       "    <tr>\n",
       "      <th>157</th>\n",
       "      <td>Mortgage</td>\n",
       "      <td>This complaint relates to Select Portfolio Ser...</td>\n",
       "    </tr>\n",
       "    <tr>\n",
       "      <th>176</th>\n",
       "      <td>Credit reporting, credit repair services, or o...</td>\n",
       "      <td>A couple years ago I became aware of identity ...</td>\n",
       "    </tr>\n",
       "    <tr>\n",
       "      <th>178</th>\n",
       "      <td>Credit reporting, credit repair services, or o...</td>\n",
       "      <td>In accordance with the Fair Credit Reporting a...</td>\n",
       "    </tr>\n",
       "    <tr>\n",
       "      <th>378</th>\n",
       "      <td>Credit reporting, credit repair services, or o...</td>\n",
       "      <td>Lexington law is what happened.\\n\\nThey dooped...</td>\n",
       "    </tr>\n",
       "    <tr>\n",
       "      <th>...</th>\n",
       "      <td>...</td>\n",
       "      <td>...</td>\n",
       "    </tr>\n",
       "    <tr>\n",
       "      <th>4064872</th>\n",
       "      <td>Debt collection</td>\n",
       "      <td>I XXXX XXXX am a person, non-adverse, non-bell...</td>\n",
       "    </tr>\n",
       "    <tr>\n",
       "      <th>4064900</th>\n",
       "      <td>Checking or savings account</td>\n",
       "      <td>On XXXX XX/XX/2022, my spouse and I - who move...</td>\n",
       "    </tr>\n",
       "    <tr>\n",
       "      <th>4064903</th>\n",
       "      <td>Debt collection</td>\n",
       "      <td>Original Creditor - XXXX XXXX ; XXXX XXXX - US...</td>\n",
       "    </tr>\n",
       "    <tr>\n",
       "      <th>4065036</th>\n",
       "      <td>Money transfer, virtual currency, or money ser...</td>\n",
       "      <td>On XX/XX/22, I contracted with XXXX XXXX ( DBA...</td>\n",
       "    </tr>\n",
       "    <tr>\n",
       "      <th>4065038</th>\n",
       "      <td>Credit reporting, credit repair services, or o...</td>\n",
       "      <td>XXXX XXXX XXXX XXXX XXXX XXXX XXXX XXXX XXXX X...</td>\n",
       "    </tr>\n",
       "  </tbody>\n",
       "</table>\n",
       "<p>1472203 rows × 2 columns</p>\n",
       "</div>"
      ],
      "text/plain": [
       "                                                   Product  \\\n",
       "149                                               Mortgage   \n",
       "157                                               Mortgage   \n",
       "176      Credit reporting, credit repair services, or o...   \n",
       "178      Credit reporting, credit repair services, or o...   \n",
       "378      Credit reporting, credit repair services, or o...   \n",
       "...                                                    ...   \n",
       "4064872                                    Debt collection   \n",
       "4064900                        Checking or savings account   \n",
       "4064903                                    Debt collection   \n",
       "4065036  Money transfer, virtual currency, or money ser...   \n",
       "4065038  Credit reporting, credit repair services, or o...   \n",
       "\n",
       "                              Consumer complaint narrative  \n",
       "149      On XX/XX/ I made a written request to have PMI...  \n",
       "157      This complaint relates to Select Portfolio Ser...  \n",
       "176      A couple years ago I became aware of identity ...  \n",
       "178      In accordance with the Fair Credit Reporting a...  \n",
       "378      Lexington law is what happened.\\n\\nThey dooped...  \n",
       "...                                                    ...  \n",
       "4064872  I XXXX XXXX am a person, non-adverse, non-bell...  \n",
       "4064900  On XXXX XX/XX/2022, my spouse and I - who move...  \n",
       "4064903  Original Creditor - XXXX XXXX ; XXXX XXXX - US...  \n",
       "4065036  On XX/XX/22, I contracted with XXXX XXXX ( DBA...  \n",
       "4065038  XXXX XXXX XXXX XXXX XXXX XXXX XXXX XXXX XXXX X...  \n",
       "\n",
       "[1472203 rows x 2 columns]"
      ]
     },
     "execution_count": 44,
     "metadata": {},
     "output_type": "execute_result"
    }
   ],
   "source": [
    "# removing the missing values\n",
    "\n",
    "wdf = wdf[pd.notnull(wdf['Consumer complaint narrative'])]\n",
    "print(wdf.notnull().sum())\n",
    "wdf"
   ]
  },
  {
   "cell_type": "markdown",
   "id": "715cbc1a",
   "metadata": {},
   "source": [
    "Although our dataset has greatly reduced after this step but we can work with the complaints on issue provided only."
   ]
  },
  {
   "cell_type": "code",
   "execution_count": 45,
   "id": "208b8aa5",
   "metadata": {},
   "outputs": [
    {
     "name": "stdout",
     "output_type": "stream",
     "text": [
      "                                                     1440398\n",
      "Product                                             Mortgage\n",
      "complaint  On XXXX XXXX, 2015, I was looking to refinance...\n",
      "(1472203, 2)\n"
     ]
    }
   ],
   "source": [
    "# Renaming the columns for simplicity\n",
    "wdf.columns = ['Product', 'complaint']\n",
    "print(wdf.sample(1).T)\n",
    "print(wdf.shape)"
   ]
  },
  {
   "cell_type": "code",
   "execution_count": 46,
   "id": "d67739c2",
   "metadata": {},
   "outputs": [
    {
     "data": {
      "text/plain": [
       "36.2"
      ]
     },
     "execution_count": 46,
     "metadata": {},
     "output_type": "execute_result"
    }
   ],
   "source": [
    "# Percentage of the complaints with text\n",
    "\n",
    "round(len(wdf)/len(df) * 100, 1)"
   ]
  },
  {
   "cell_type": "code",
   "execution_count": 47,
   "id": "9234dcca",
   "metadata": {},
   "outputs": [
    {
     "data": {
      "text/plain": [
       "['Bank account or service',\n",
       " 'Checking or savings account',\n",
       " 'Consumer Loan',\n",
       " 'Credit card',\n",
       " 'Credit card or prepaid card',\n",
       " 'Credit reporting',\n",
       " 'Credit reporting or other personal consumer reports',\n",
       " 'Credit reporting, credit repair services, or other personal consumer reports',\n",
       " 'Debt collection',\n",
       " 'Debt or credit management',\n",
       " 'Money transfer, virtual currency, or money service',\n",
       " 'Money transfers',\n",
       " 'Mortgage',\n",
       " 'Other financial service',\n",
       " 'Payday loan',\n",
       " 'Payday loan, title loan, or personal loan',\n",
       " 'Payday loan, title loan, personal loan, or advance loan',\n",
       " 'Prepaid card',\n",
       " 'Student loan',\n",
       " 'Vehicle loan or lease',\n",
       " 'Virtual currency']"
      ]
     },
     "execution_count": 47,
     "metadata": {},
     "output_type": "execute_result"
    }
   ],
   "source": [
    "# list of aall the products or categories in the data set\n",
    "\n",
    "sorted(wdf.Product.unique())"
   ]
  },
  {
   "cell_type": "markdown",
   "id": "4f539e22",
   "metadata": {},
   "source": [
    "Since we have to classify only the 4 categories we will select the data belonging to those particular categories and store in a dataset named required dataset a.k.a rdf and discard the rest from our wdf."
   ]
  },
  {
   "cell_type": "code",
   "execution_count": 48,
   "id": "69d3af60",
   "metadata": {},
   "outputs": [
    {
     "data": {
      "text/html": [
       "<div>\n",
       "<style scoped>\n",
       "    .dataframe tbody tr th:only-of-type {\n",
       "        vertical-align: middle;\n",
       "    }\n",
       "\n",
       "    .dataframe tbody tr th {\n",
       "        vertical-align: top;\n",
       "    }\n",
       "\n",
       "    .dataframe thead th {\n",
       "        text-align: right;\n",
       "    }\n",
       "</style>\n",
       "<table border=\"1\" class=\"dataframe\">\n",
       "  <thead>\n",
       "    <tr style=\"text-align: right;\">\n",
       "      <th></th>\n",
       "      <th>Product</th>\n",
       "      <th>complaint</th>\n",
       "    </tr>\n",
       "  </thead>\n",
       "  <tbody>\n",
       "    <tr>\n",
       "      <th>149</th>\n",
       "      <td>Mortgage</td>\n",
       "      <td>On XX/XX/ I made a written request to have PMI...</td>\n",
       "    </tr>\n",
       "    <tr>\n",
       "      <th>157</th>\n",
       "      <td>Mortgage</td>\n",
       "      <td>This complaint relates to Select Portfolio Ser...</td>\n",
       "    </tr>\n",
       "    <tr>\n",
       "      <th>176</th>\n",
       "      <td>Credit reporting, credit repair services, or o...</td>\n",
       "      <td>A couple years ago I became aware of identity ...</td>\n",
       "    </tr>\n",
       "    <tr>\n",
       "      <th>178</th>\n",
       "      <td>Credit reporting, credit repair services, or o...</td>\n",
       "      <td>In accordance with the Fair Credit Reporting a...</td>\n",
       "    </tr>\n",
       "    <tr>\n",
       "      <th>378</th>\n",
       "      <td>Credit reporting, credit repair services, or o...</td>\n",
       "      <td>Lexington law is what happened.\\n\\nThey dooped...</td>\n",
       "    </tr>\n",
       "    <tr>\n",
       "      <th>...</th>\n",
       "      <td>...</td>\n",
       "      <td>...</td>\n",
       "    </tr>\n",
       "    <tr>\n",
       "      <th>4064667</th>\n",
       "      <td>Mortgage</td>\n",
       "      <td>Up until recently I had a mortgage with XXXX X...</td>\n",
       "    </tr>\n",
       "    <tr>\n",
       "      <th>4064756</th>\n",
       "      <td>Debt collection</td>\n",
       "      <td>After being personally harassed in public with...</td>\n",
       "    </tr>\n",
       "    <tr>\n",
       "      <th>4064872</th>\n",
       "      <td>Debt collection</td>\n",
       "      <td>I XXXX XXXX am a person, non-adverse, non-bell...</td>\n",
       "    </tr>\n",
       "    <tr>\n",
       "      <th>4064903</th>\n",
       "      <td>Debt collection</td>\n",
       "      <td>Original Creditor - XXXX XXXX ; XXXX XXXX - US...</td>\n",
       "    </tr>\n",
       "    <tr>\n",
       "      <th>4065038</th>\n",
       "      <td>Credit reporting, credit repair services, or o...</td>\n",
       "      <td>XXXX XXXX XXXX XXXX XXXX XXXX XXXX XXXX XXXX X...</td>\n",
       "    </tr>\n",
       "  </tbody>\n",
       "</table>\n",
       "<p>1109263 rows × 2 columns</p>\n",
       "</div>"
      ],
      "text/plain": [
       "                                                   Product  \\\n",
       "149                                               Mortgage   \n",
       "157                                               Mortgage   \n",
       "176      Credit reporting, credit repair services, or o...   \n",
       "178      Credit reporting, credit repair services, or o...   \n",
       "378      Credit reporting, credit repair services, or o...   \n",
       "...                                                    ...   \n",
       "4064667                                           Mortgage   \n",
       "4064756                                    Debt collection   \n",
       "4064872                                    Debt collection   \n",
       "4064903                                    Debt collection   \n",
       "4065038  Credit reporting, credit repair services, or o...   \n",
       "\n",
       "                                                 complaint  \n",
       "149      On XX/XX/ I made a written request to have PMI...  \n",
       "157      This complaint relates to Select Portfolio Ser...  \n",
       "176      A couple years ago I became aware of identity ...  \n",
       "178      In accordance with the Fair Credit Reporting a...  \n",
       "378      Lexington law is what happened.\\n\\nThey dooped...  \n",
       "...                                                    ...  \n",
       "4064667  Up until recently I had a mortgage with XXXX X...  \n",
       "4064756  After being personally harassed in public with...  \n",
       "4064872  I XXXX XXXX am a person, non-adverse, non-bell...  \n",
       "4064903  Original Creditor - XXXX XXXX ; XXXX XXXX - US...  \n",
       "4065038  XXXX XXXX XXXX XXXX XXXX XXXX XXXX XXXX XXXX X...  \n",
       "\n",
       "[1109263 rows x 2 columns]"
      ]
     },
     "execution_count": 48,
     "metadata": {},
     "output_type": "execute_result"
    }
   ],
   "source": [
    "req_products = ['Credit reporting, credit repair services, or other personal consumer reports',\n",
    "                'Debt collection',\n",
    "                'Consumer Loan',\n",
    "                'Mortgage']\n",
    "\n",
    "rdf = wdf[wdf.Product.isin(req_products)]\n",
    "rdf"
   ]
  },
  {
   "cell_type": "markdown",
   "id": "2d93565d",
   "metadata": {},
   "source": [
    "Now we have to work with only these 881,051 values."
   ]
  },
  {
   "cell_type": "markdown",
   "id": "bb7bd67a",
   "metadata": {},
   "source": [
    "Since the categoies have a bigger names can be renamed foor easier computation ans easy work purposes"
   ]
  },
  {
   "cell_type": "code",
   "execution_count": 49,
   "id": "69842178",
   "metadata": {},
   "outputs": [
    {
     "data": {
      "text/plain": [
       "array(['Mortgage',\n",
       "       'Credit reporting, credit repair services, or other personal consumer reports',\n",
       "       'Debt collection', 'Consumer Loan'], dtype=object)"
      ]
     },
     "execution_count": 49,
     "metadata": {},
     "output_type": "execute_result"
    }
   ],
   "source": [
    "rdf.Product.unique()"
   ]
  },
  {
   "cell_type": "code",
   "execution_count": 50,
   "id": "16568505",
   "metadata": {},
   "outputs": [
    {
     "name": "stderr",
     "output_type": "stream",
     "text": [
      "C:\\Users\\srija\\AppData\\Local\\Temp\\ipykernel_18948\\3936880472.py:10: SettingWithCopyWarning: \n",
      "A value is trying to be set on a copy of a slice from a DataFrame.\n",
      "Try using .loc[row_indexer,col_indexer] = value instead\n",
      "\n",
      "See the caveats in the documentation: https://pandas.pydata.org/pandas-docs/stable/user_guide/indexing.html#returning-a-view-versus-a-copy\n",
      "  rdf.loc[:, 'Product'] = rdf.loc[:, 'Product'].replace(rename_dict)\n"
     ]
    }
   ],
   "source": [
    "# Renaming categories\n",
    "\n",
    "rename_dict = {'Credit reporting, credit repair services, or other personal consumer reports' :\n",
    "                'Credit reporting, repair, or other',\n",
    "                                         'Debt collection' : 'Debt collection',\n",
    "                                         'Consumer Loan' : 'Consumer Loan',\n",
    "                                         'Mortgage' : 'Mortgage'\n",
    "                                    }\n",
    "\n",
    "rdf.loc[:, 'Product'] = rdf.loc[:, 'Product'].replace(rename_dict)"
   ]
  },
  {
   "cell_type": "code",
   "execution_count": 51,
   "id": "13908498",
   "metadata": {},
   "outputs": [
    {
     "data": {
      "text/plain": [
       "array(['Mortgage', 'Credit reporting, repair, or other',\n",
       "       'Debt collection', 'Consumer Loan'], dtype=object)"
      ]
     },
     "execution_count": 51,
     "metadata": {},
     "output_type": "execute_result"
    }
   ],
   "source": [
    "rdf.Product.unique()"
   ]
  },
  {
   "cell_type": "markdown",
   "id": "7a8d9c98",
   "metadata": {},
   "source": [
    "Now Providing each category a number for the model to understand and use it efficiently."
   ]
  },
  {
   "cell_type": "code",
   "execution_count": 52,
   "id": "e05b8e97",
   "metadata": {},
   "outputs": [
    {
     "name": "stderr",
     "output_type": "stream",
     "text": [
      "C:\\Users\\srija\\AppData\\Local\\Temp\\ipykernel_18948\\1741130520.py:1: SettingWithCopyWarning: \n",
      "A value is trying to be set on a copy of a slice from a DataFrame.\n",
      "Try using .loc[row_indexer,col_indexer] = value instead\n",
      "\n",
      "See the caveats in the documentation: https://pandas.pydata.org/pandas-docs/stable/user_guide/indexing.html#returning-a-view-versus-a-copy\n",
      "  rdf['cat_id'] = rdf.Product.factorize(sort = True)[0] # contains category idor the number provided to the category.\n"
     ]
    }
   ],
   "source": [
    "rdf['cat_id'] = rdf.Product.factorize(sort = True)[0] # contains category idor the number provided to the category."
   ]
  },
  {
   "cell_type": "code",
   "execution_count": 53,
   "id": "29447ecc",
   "metadata": {},
   "outputs": [
    {
     "data": {
      "text/html": [
       "<div>\n",
       "<style scoped>\n",
       "    .dataframe tbody tr th:only-of-type {\n",
       "        vertical-align: middle;\n",
       "    }\n",
       "\n",
       "    .dataframe tbody tr th {\n",
       "        vertical-align: top;\n",
       "    }\n",
       "\n",
       "    .dataframe thead th {\n",
       "        text-align: right;\n",
       "    }\n",
       "</style>\n",
       "<table border=\"1\" class=\"dataframe\">\n",
       "  <thead>\n",
       "    <tr style=\"text-align: right;\">\n",
       "      <th></th>\n",
       "      <th>Product</th>\n",
       "      <th>complaint</th>\n",
       "      <th>cat_id</th>\n",
       "    </tr>\n",
       "  </thead>\n",
       "  <tbody>\n",
       "    <tr>\n",
       "      <th>454083</th>\n",
       "      <td>Debt collection</td>\n",
       "      <td>I had a membership at XXXX XXXX for a couple m...</td>\n",
       "      <td>2</td>\n",
       "    </tr>\n",
       "    <tr>\n",
       "      <th>2593745</th>\n",
       "      <td>Credit reporting, repair, or other</td>\n",
       "      <td>Amsher Collection SE broken all laws that foll...</td>\n",
       "      <td>1</td>\n",
       "    </tr>\n",
       "    <tr>\n",
       "      <th>326792</th>\n",
       "      <td>Credit reporting, repair, or other</td>\n",
       "      <td>Hey Hope all is well. I was looking through my...</td>\n",
       "      <td>1</td>\n",
       "    </tr>\n",
       "    <tr>\n",
       "      <th>1084082</th>\n",
       "      <td>Credit reporting, repair, or other</td>\n",
       "      <td>I'm really not sure what happened. I have mail...</td>\n",
       "      <td>1</td>\n",
       "    </tr>\n",
       "    <tr>\n",
       "      <th>2785230</th>\n",
       "      <td>Credit reporting, repair, or other</td>\n",
       "      <td>In accordance with the Fair Credit Reporting a...</td>\n",
       "      <td>1</td>\n",
       "    </tr>\n",
       "    <tr>\n",
       "      <th>1420318</th>\n",
       "      <td>Credit reporting, repair, or other</td>\n",
       "      <td>DO NOT CLOSE THIS COMPLAINT FOR ANY REASON IM ...</td>\n",
       "      <td>1</td>\n",
       "    </tr>\n",
       "    <tr>\n",
       "      <th>1932294</th>\n",
       "      <td>Credit reporting, repair, or other</td>\n",
       "      <td>I AM THE VICTIM OF IDENTITY THEFT, PLEASE HELP...</td>\n",
       "      <td>1</td>\n",
       "    </tr>\n",
       "    <tr>\n",
       "      <th>975123</th>\n",
       "      <td>Mortgage</td>\n",
       "      <td>Received in the mail Trial Modification Plan f...</td>\n",
       "      <td>3</td>\n",
       "    </tr>\n",
       "    <tr>\n",
       "      <th>524178</th>\n",
       "      <td>Credit reporting, repair, or other</td>\n",
       "      <td>I agree the two settlements were done per your...</td>\n",
       "      <td>1</td>\n",
       "    </tr>\n",
       "    <tr>\n",
       "      <th>3991950</th>\n",
       "      <td>Debt collection</td>\n",
       "      <td>I pulled my credit report while saving to buy ...</td>\n",
       "      <td>2</td>\n",
       "    </tr>\n",
       "  </tbody>\n",
       "</table>\n",
       "</div>"
      ],
      "text/plain": [
       "                                    Product  \\\n",
       "454083                      Debt collection   \n",
       "2593745  Credit reporting, repair, or other   \n",
       "326792   Credit reporting, repair, or other   \n",
       "1084082  Credit reporting, repair, or other   \n",
       "2785230  Credit reporting, repair, or other   \n",
       "1420318  Credit reporting, repair, or other   \n",
       "1932294  Credit reporting, repair, or other   \n",
       "975123                             Mortgage   \n",
       "524178   Credit reporting, repair, or other   \n",
       "3991950                     Debt collection   \n",
       "\n",
       "                                                 complaint  cat_id  \n",
       "454083   I had a membership at XXXX XXXX for a couple m...       2  \n",
       "2593745  Amsher Collection SE broken all laws that foll...       1  \n",
       "326792   Hey Hope all is well. I was looking through my...       1  \n",
       "1084082  I'm really not sure what happened. I have mail...       1  \n",
       "2785230  In accordance with the Fair Credit Reporting a...       1  \n",
       "1420318  DO NOT CLOSE THIS COMPLAINT FOR ANY REASON IM ...       1  \n",
       "1932294  I AM THE VICTIM OF IDENTITY THEFT, PLEASE HELP...       1  \n",
       "975123   Received in the mail Trial Modification Plan f...       3  \n",
       "524178   I agree the two settlements were done per your...       1  \n",
       "3991950  I pulled my credit report while saving to buy ...       2  "
      ]
     },
     "execution_count": 53,
     "metadata": {},
     "output_type": "execute_result"
    }
   ],
   "source": [
    "# New data frame after adding the column\n",
    "rdf.sample(10)"
   ]
  },
  {
   "cell_type": "code",
   "execution_count": 54,
   "id": "c8891ed8",
   "metadata": {},
   "outputs": [
    {
     "name": "stdout",
     "output_type": "stream",
     "text": [
      "{'Mortgage': 3, 'Credit reporting, repair, or other': 1, 'Debt collection': 2, 'Consumer Loan': 0}\n"
     ]
    },
    {
     "data": {
      "text/plain": [
       "{3: 'Mortgage',\n",
       " 1: 'Credit reporting, repair, or other',\n",
       " 2: 'Debt collection',\n",
       " 0: 'Consumer Loan'}"
      ]
     },
     "execution_count": 54,
     "metadata": {},
     "output_type": "execute_result"
    }
   ],
   "source": [
    "cat_id_df = rdf[['Product', 'cat_id']].drop_duplicates()\n",
    "\n",
    "# dictionries that are to be used further in the code\n",
    "cat_to_id = dict(cat_id_df.values)\n",
    "id_to_cat = dict(cat_id_df[['cat_id', 'Product']].values)\n",
    "\n",
    "print(cat_to_id)\n",
    "id_to_cat"
   ]
  },
  {
   "cell_type": "markdown",
   "id": "72e47439",
   "metadata": {},
   "source": [
    "The bar chart below shows number of complints in every category."
   ]
  },
  {
   "cell_type": "code",
   "execution_count": 55,
   "id": "03eb4bd3",
   "metadata": {},
   "outputs": [
    {
     "data": {
      "text/plain": [
       "Text(0.5, 0, 'Number of occurences')"
      ]
     },
     "execution_count": 55,
     "metadata": {},
     "output_type": "execute_result"
    },
    {
     "data": {
      "image/png": "[encoded data removed]",
      "text/plain": [
       "<Figure size 640x480 with 1 Axes>"
      ]
     },
     "metadata": {},
     "output_type": "display_data"
    }
   ],
   "source": [
    "# plotting the bar chart\n",
    "\n",
    "rdf.groupby('Product').complaint.count().sort_values().plot.barh()\n",
    "plt.title('Number of complaints in each category')\n",
    "plt.xlabel('Number of occurences')"
   ]
  },
  {
   "cell_type": "markdown",
   "id": "d6e25727",
   "metadata": {},
   "source": [
    "## Text Preprocessing\n",
    "\n",
    "using Term Frequency Inverse Document Frequency (TFIDF)\n",
    "which is a statistical measure that evaluates how relevant a word is to a document in a collection of documents."
   ]
  },
  {
   "cell_type": "code",
   "execution_count": 56,
   "id": "60ce6996",
   "metadata": {},
   "outputs": [],
   "source": [
    "# reducing the size of the dataset so system can handle the computations of the model\n",
    "# now working on the data set of the size 50000.\n",
    "rdf1 = rdf.sample(10000, random_state=43)"
   ]
  },
  {
   "cell_type": "code",
   "execution_count": 57,
   "id": "a9a3ed66",
   "metadata": {},
   "outputs": [
    {
     "data": {
      "text/html": [
       "<div>\n",
       "<style scoped>\n",
       "    .dataframe tbody tr th:only-of-type {\n",
       "        vertical-align: middle;\n",
       "    }\n",
       "\n",
       "    .dataframe tbody tr th {\n",
       "        vertical-align: top;\n",
       "    }\n",
       "\n",
       "    .dataframe thead th {\n",
       "        text-align: right;\n",
       "    }\n",
       "</style>\n",
       "<table border=\"1\" class=\"dataframe\">\n",
       "  <thead>\n",
       "    <tr style=\"text-align: right;\">\n",
       "      <th></th>\n",
       "      <th>Product</th>\n",
       "      <th>complaint</th>\n",
       "      <th>cat_id</th>\n",
       "    </tr>\n",
       "  </thead>\n",
       "  <tbody>\n",
       "    <tr>\n",
       "      <th>3439925</th>\n",
       "      <td>Credit reporting, repair, or other</td>\n",
       "      <td>Dear Sir or Madam : I am a victim of identity ...</td>\n",
       "      <td>1</td>\n",
       "    </tr>\n",
       "    <tr>\n",
       "      <th>314643</th>\n",
       "      <td>Debt collection</td>\n",
       "      <td>I called the collection company they said I ha...</td>\n",
       "      <td>2</td>\n",
       "    </tr>\n",
       "    <tr>\n",
       "      <th>1982395</th>\n",
       "      <td>Credit reporting, repair, or other</td>\n",
       "      <td>My name is XXXX XXXX this complaint is not mad...</td>\n",
       "      <td>1</td>\n",
       "    </tr>\n",
       "    <tr>\n",
       "      <th>1058675</th>\n",
       "      <td>Debt collection</td>\n",
       "      <td>On XX/XX/XXXX, I contacted a loan officer at m...</td>\n",
       "      <td>2</td>\n",
       "    </tr>\n",
       "    <tr>\n",
       "      <th>2067011</th>\n",
       "      <td>Credit reporting, repair, or other</td>\n",
       "      <td>The following inquiries are on my Credit repor...</td>\n",
       "      <td>1</td>\n",
       "    </tr>\n",
       "  </tbody>\n",
       "</table>\n",
       "</div>"
      ],
      "text/plain": [
       "                                    Product  \\\n",
       "3439925  Credit reporting, repair, or other   \n",
       "314643                      Debt collection   \n",
       "1982395  Credit reporting, repair, or other   \n",
       "1058675                     Debt collection   \n",
       "2067011  Credit reporting, repair, or other   \n",
       "\n",
       "                                                 complaint  cat_id  \n",
       "3439925  Dear Sir or Madam : I am a victim of identity ...       1  \n",
       "314643   I called the collection company they said I ha...       2  \n",
       "1982395  My name is XXXX XXXX this complaint is not mad...       1  \n",
       "1058675  On XX/XX/XXXX, I contacted a loan officer at m...       2  \n",
       "2067011  The following inquiries are on my Credit repor...       1  "
      ]
     },
     "execution_count": 57,
     "metadata": {},
     "output_type": "execute_result"
    }
   ],
   "source": [
    "rdf1.sample(5)"
   ]
  },
  {
   "cell_type": "code",
   "execution_count": 58,
   "id": "b8f1fa6f",
   "metadata": {},
   "outputs": [],
   "source": [
    "tfidf = TfidfVectorizer(sublinear_tf=True, min_df=5, ngram_range=(1,2), stop_words='english')\n",
    "\n",
    "# changing complaints to vector \n",
    "features = tfidf.fit_transform(rdf1.complaint).toarray()"
   ]
  },
  {
   "cell_type": "code",
   "execution_count": 59,
   "id": "9860cb10",
   "metadata": {},
   "outputs": [
    {
     "name": "stdout",
     "output_type": "stream",
     "text": [
      "The 10000 complaints are converted to 24852 features\n"
     ]
    }
   ],
   "source": [
    "labels = rdf1.cat_id\n",
    "print(\"The %d complaints are converted to %d features\" %(features.shape))"
   ]
  },
  {
   "cell_type": "code",
   "execution_count": 60,
   "id": "e3610638",
   "metadata": {},
   "outputs": [
    {
     "name": "stdout",
     "output_type": "stream",
     "text": [
      "\n",
      ">>>>> Consumer Loan :\n",
      "-- Most related unigrams are : vehicle,repossessed,car,dealer,honda\n",
      "-- Most related bigrams are : car repossessed,washington xxxx,toyota financial,new car,lien property\n",
      "\n",
      ">>>>> Credit reporting, repair, or other :\n",
      "-- Most related unigrams are : collect,pay,collection,mortgage,debt\n",
      "-- Most related bigrams are : reporting agency,consumer reporting,collection agency,15 1681,1681 section\n",
      "\n",
      ">>>>> Debt collection :\n",
      "-- Most related unigrams are : recovery,owe,collect,collection,debt\n",
      "-- Most related bigrams are : portfolio recovery,debt collection,trying collect,collect debt,collection agency\n",
      "\n",
      ">>>>> Mortgage :\n",
      "-- Most related unigrams are : home,loan,escrow,modification,mortgage\n",
      "-- Most related bigrams are : mortgage payment,wells fargo,escrow account,mortgage company,loan modification\n"
     ]
    }
   ],
   "source": [
    "# Find 3 most correlated terms with each of the product categories\n",
    "\n",
    "n = 5\n",
    "\n",
    "for product, cat_id in sorted(cat_to_id.items()):\n",
    "    features_chi2 = chi2(features, labels == cat_id)\n",
    "    indices = np.argsort(features_chi2[0])\n",
    "    feature_names = np.array(tfidf.get_feature_names_out())[indices]\n",
    "    unigrams = [v for v in feature_names if len(v.split(' ')) == 1]\n",
    "    bigrams = [v for v in feature_names if len(v.split(' ')) == 2]\n",
    "    print(\"\\n>>>>> %s :\" %(product))\n",
    "    print(\"-- Most related unigrams are : %s\" %(','.join(unigrams[-n:])))\n",
    "    print(\"-- Most related bigrams are : %s\" %(','.join(bigrams[-n:])))"
   ]
  },
  {
   "cell_type": "markdown",
   "id": "81ec7e37",
   "metadata": {},
   "source": [
    "## Selection of Multiclass Classification model"
   ]
  },
  {
   "cell_type": "markdown",
   "id": "f3c1a74a",
   "metadata": {},
   "source": [
    "Multi class classification models :\n",
    "    \n",
    "    1. Multinomial Naive Bayes\n",
    "    2. Linear Support Vector Machine\n",
    "    3. Random Forest\n",
    "    4. Logistic Regression"
   ]
  },
  {
   "cell_type": "markdown",
   "id": "82f2470a",
   "metadata": {},
   "source": [
    "##### Splitting the data into train and test sets\n",
    "we will split the data in x (80%) and y(20%) for training and testing of the model respectivly"
   ]
  },
  {
   "cell_type": "code",
   "execution_count": 61,
   "id": "3f68d1de",
   "metadata": {},
   "outputs": [
    {
     "data": {
      "text/html": [
       "<div>\n",
       "<style scoped>\n",
       "    .dataframe tbody tr th:only-of-type {\n",
       "        vertical-align: middle;\n",
       "    }\n",
       "\n",
       "    .dataframe tbody tr th {\n",
       "        vertical-align: top;\n",
       "    }\n",
       "\n",
       "    .dataframe thead th {\n",
       "        text-align: right;\n",
       "    }\n",
       "</style>\n",
       "<table border=\"1\" class=\"dataframe\">\n",
       "  <thead>\n",
       "    <tr style=\"text-align: right;\">\n",
       "      <th></th>\n",
       "      <th>Product</th>\n",
       "      <th>complaint</th>\n",
       "      <th>cat_id</th>\n",
       "    </tr>\n",
       "  </thead>\n",
       "  <tbody>\n",
       "    <tr>\n",
       "      <th>3842874</th>\n",
       "      <td>Debt collection</td>\n",
       "      <td>Capitol One sent collection notices in me the ...</td>\n",
       "      <td>2</td>\n",
       "    </tr>\n",
       "    <tr>\n",
       "      <th>79004</th>\n",
       "      <td>Credit reporting, repair, or other</td>\n",
       "      <td>This is not a duplicate nor is this complaint ...</td>\n",
       "      <td>1</td>\n",
       "    </tr>\n",
       "    <tr>\n",
       "      <th>3744886</th>\n",
       "      <td>Credit reporting, repair, or other</td>\n",
       "      <td>I FILED A DISPUTE WITH THE CREDIT REPORTING AG...</td>\n",
       "      <td>1</td>\n",
       "    </tr>\n",
       "    <tr>\n",
       "      <th>3457152</th>\n",
       "      <td>Credit reporting, repair, or other</td>\n",
       "      <td>I ordered a copy of my report in XXXX dated XX...</td>\n",
       "      <td>1</td>\n",
       "    </tr>\n",
       "    <tr>\n",
       "      <th>3310578</th>\n",
       "      <td>Mortgage</td>\n",
       "      <td>I noticed on my most recent credit report that...</td>\n",
       "      <td>3</td>\n",
       "    </tr>\n",
       "  </tbody>\n",
       "</table>\n",
       "</div>"
      ],
      "text/plain": [
       "                                    Product  \\\n",
       "3842874                     Debt collection   \n",
       "79004    Credit reporting, repair, or other   \n",
       "3744886  Credit reporting, repair, or other   \n",
       "3457152  Credit reporting, repair, or other   \n",
       "3310578                            Mortgage   \n",
       "\n",
       "                                                 complaint  cat_id  \n",
       "3842874  Capitol One sent collection notices in me the ...       2  \n",
       "79004    This is not a duplicate nor is this complaint ...       1  \n",
       "3744886  I FILED A DISPUTE WITH THE CREDIT REPORTING AG...       1  \n",
       "3457152  I ordered a copy of my report in XXXX dated XX...       1  \n",
       "3310578  I noticed on my most recent credit report that...       3  "
      ]
     },
     "execution_count": 61,
     "metadata": {},
     "output_type": "execute_result"
    }
   ],
   "source": [
    "rdf1.sample(5)"
   ]
  },
  {
   "cell_type": "code",
   "execution_count": 62,
   "id": "59b315a2",
   "metadata": {},
   "outputs": [
    {
     "name": "stdout",
     "output_type": "stream",
     "text": [
      "(8000,)\n",
      "(2000,)\n"
     ]
    }
   ],
   "source": [
    "xTrain, xTest, yTrain, yTest = train_test_split(rdf1.complaint, rdf1.Product, test_size=0.2, random_state=42)\n",
    "print(xTrain.shape)\n",
    "print(xTest.shape)"
   ]
  },
  {
   "cell_type": "code",
   "execution_count": 63,
   "id": "af71992d",
   "metadata": {},
   "outputs": [],
   "source": [
    "models = [MultinomialNB(),\n",
    "          LinearSVC(),\n",
    "          RandomForestClassifier(n_estimators=100,\n",
    "                                 max_depth = 5,\n",
    "                                 random_state=43),\n",
    "          LogisticRegression(random_state=43)]\n",
    "\n",
    "cross_val = 5 #cross_validationd\n",
    "cv_df = pd.DataFrame(index=range(cross_val * len(models)))\n",
    "\n",
    "entries = []\n",
    "\n",
    "for model in models:\n",
    "    model_name = model.__class__.__name__\n",
    "    acc = cross_val_score(model,\n",
    "                          features,\n",
    "                          labels,\n",
    "                          scoring = 'accuracy',\n",
    "                          cv = cross_val) # Accuracies\n",
    "    for fold_idx, accu in enumerate(acc):\n",
    "        entries.append((model_name, fold_idx, accu))\n",
    "    \n",
    "cv_df = pd.DataFrame(entries, columns=['Model', 'fold_idx', 'Accuracy'])\n",
    "        "
   ]
  },
  {
   "cell_type": "markdown",
   "id": "9f77a9ef",
   "metadata": {},
   "source": [
    "## Comaprision and model performance"
   ]
  },
  {
   "cell_type": "code",
   "execution_count": 64,
   "id": "db661354",
   "metadata": {},
   "outputs": [
    {
     "data": {
      "text/html": [
       "<div>\n",
       "<style scoped>\n",
       "    .dataframe tbody tr th:only-of-type {\n",
       "        vertical-align: middle;\n",
       "    }\n",
       "\n",
       "    .dataframe tbody tr th {\n",
       "        vertical-align: top;\n",
       "    }\n",
       "\n",
       "    .dataframe thead th {\n",
       "        text-align: right;\n",
       "    }\n",
       "</style>\n",
       "<table border=\"1\" class=\"dataframe\">\n",
       "  <thead>\n",
       "    <tr style=\"text-align: right;\">\n",
       "      <th></th>\n",
       "      <th>Mean Accuracy</th>\n",
       "      <th>Standard Deviation</th>\n",
       "    </tr>\n",
       "    <tr>\n",
       "      <th>Model</th>\n",
       "      <th></th>\n",
       "      <th></th>\n",
       "    </tr>\n",
       "  </thead>\n",
       "  <tbody>\n",
       "    <tr>\n",
       "      <th>LinearSVC</th>\n",
       "      <td>0.9060</td>\n",
       "      <td>0.006114</td>\n",
       "    </tr>\n",
       "    <tr>\n",
       "      <th>LogisticRegression</th>\n",
       "      <td>0.8990</td>\n",
       "      <td>0.005454</td>\n",
       "    </tr>\n",
       "    <tr>\n",
       "      <th>MultinomialNB</th>\n",
       "      <td>0.8719</td>\n",
       "      <td>0.005716</td>\n",
       "    </tr>\n",
       "    <tr>\n",
       "      <th>RandomForestClassifier</th>\n",
       "      <td>0.6907</td>\n",
       "      <td>0.000570</td>\n",
       "    </tr>\n",
       "  </tbody>\n",
       "</table>\n",
       "</div>"
      ],
      "text/plain": [
       "                        Mean Accuracy  Standard Deviation\n",
       "Model                                                    \n",
       "LinearSVC                      0.9060            0.006114\n",
       "LogisticRegression             0.8990            0.005454\n",
       "MultinomialNB                  0.8719            0.005716\n",
       "RandomForestClassifier         0.6907            0.000570"
      ]
     },
     "execution_count": 64,
     "metadata": {},
     "output_type": "execute_result"
    }
   ],
   "source": [
    "mean_acc = cv_df.groupby('Model').Accuracy.mean()\n",
    "std_acc = cv_df.groupby('Model').Accuracy.std()\n",
    "\n",
    "accuracy_table = pd.concat([mean_acc, std_acc],\n",
    "                axis = 1,\n",
    "                ignore_index=True)\n",
    "accuracy_table.columns = ['Mean Accuracy', 'Standard Deviation']\n",
    "accuracy_table"
   ]
  },
  {
   "cell_type": "markdown",
   "id": "ee9f0f1c",
   "metadata": {},
   "source": [
    "## Model Evaluation"
   ]
  },
  {
   "cell_type": "code",
   "execution_count": 65,
   "id": "bdd20d2d",
   "metadata": {},
   "outputs": [],
   "source": [
    "x_Train, x_Test, y_Train, y_Test = train_test_split(features,\n",
    "                                                              labels,\n",
    "                                                              random_state=43)\n",
    "model = LinearSVC()\n",
    "model.fit(x_Train, y_Train)\n",
    "y_pred = model.predict(x_Test)"
   ]
  },
  {
   "cell_type": "code",
   "execution_count": null,
   "id": "e743facb",
   "metadata": {},
   "outputs": [],
   "source": []
  },
  {
   "cell_type": "code",
   "execution_count": 66,
   "id": "203471f3",
   "metadata": {},
   "outputs": [
    {
     "name": "stdout",
     "output_type": "stream",
     "text": [
      "                                    precision    recall  f1-score   support\n",
      "\n",
      "                          Mortgage       0.00      0.00      0.00        19\n",
      "Credit reporting, repair, or other       0.93      0.96      0.94      1747\n",
      "                   Debt collection       0.83      0.79      0.81       485\n",
      "                     Consumer Loan       0.93      0.91      0.92       249\n",
      "\n",
      "                          accuracy                           0.91      2500\n",
      "                         macro avg       0.67      0.66      0.67      2500\n",
      "                      weighted avg       0.90      0.91      0.91      2500\n",
      "\n"
     ]
    },
    {
     "name": "stderr",
     "output_type": "stream",
     "text": [
      "C:\\Users\\srija\\AppData\\Local\\Programs\\Python\\Python311\\Lib\\site-packages\\sklearn\\metrics\\_classification.py:1344: UndefinedMetricWarning: Precision and F-score are ill-defined and being set to 0.0 in labels with no predicted samples. Use `zero_division` parameter to control this behavior.\n",
      "  _warn_prf(average, modifier, msg_start, len(result))\n",
      "C:\\Users\\srija\\AppData\\Local\\Programs\\Python\\Python311\\Lib\\site-packages\\sklearn\\metrics\\_classification.py:1344: UndefinedMetricWarning: Precision and F-score are ill-defined and being set to 0.0 in labels with no predicted samples. Use `zero_division` parameter to control this behavior.\n",
      "  _warn_prf(average, modifier, msg_start, len(result))\n",
      "C:\\Users\\srija\\AppData\\Local\\Programs\\Python\\Python311\\Lib\\site-packages\\sklearn\\metrics\\_classification.py:1344: UndefinedMetricWarning: Precision and F-score are ill-defined and being set to 0.0 in labels with no predicted samples. Use `zero_division` parameter to control this behavior.\n",
      "  _warn_prf(average, modifier, msg_start, len(result))\n"
     ]
    }
   ],
   "source": [
    "print(metrics.classification_report(y_Test, y_pred, target_names = rdf1['Product'].unique()))"
   ]
  },
  {
   "cell_type": "markdown",
   "id": "8c429696",
   "metadata": {},
   "source": [
    "#### Confusion Matrix"
   ]
  },
  {
   "cell_type": "code",
   "execution_count": 67,
   "id": "17373454",
   "metadata": {},
   "outputs": [
    {
     "data": {
      "text/plain": [
       "Text(0.5, 1.0, 'Confusion Matrix - Linear SVC')"
      ]
     },
     "execution_count": 67,
     "metadata": {},
     "output_type": "execute_result"
    },
    {
     "data": {
      "image/png": "[encoded data removed]",
      "text/plain": [
       "<Figure size 640x480 with 2 Axes>"
      ]
     },
     "metadata": {},
     "output_type": "display_data"
    }
   ],
   "source": [
    "conf_mat = confusion_matrix(y_Test, y_pred)\n",
    "sns.heatmap(conf_mat, annot = True, cmap='Reds', fmt='d',\n",
    "            xticklabels=cat_id_df.Product.values,\n",
    "            yticklabels=cat_id_df.Product.values)\n",
    "plt.ylabel('Actual')\n",
    "plt.xlabel('Predicted')\n",
    "plt.title('Confusion Matrix - Linear SVC')"
   ]
  },
  {
   "cell_type": "markdown",
   "id": "20284680",
   "metadata": {},
   "source": [
    "## Predictions"
   ]
  },
  {
   "cell_type": "code",
   "execution_count": 68,
   "id": "c34d1406",
   "metadata": {},
   "outputs": [],
   "source": [
    "xTrain, xTest, yTrain, yTest = train_test_split(rdf1.complaint,\n",
    "                                                rdf1.Product,\n",
    "                                                test_size=0.2,\n",
    "                                                random_state=42)\n",
    "\n",
    "tfidf = TfidfVectorizer(sublinear_tf=True,\n",
    "                        min_df=5,\n",
    "                        ngram_range=(1,2),\n",
    "                        stop_words='english')\n",
    "\n",
    "fitted_vectorizer = tfidf.fit(xTrain)\n",
    "tfidf_vectorizer_vectors = fitted_vectorizer.transform(xTrain)\n",
    "\n",
    "model = LinearSVC().fit(tfidf_vectorizer_vectors, yTrain)"
   ]
  },
  {
   "cell_type": "code",
   "execution_count": 69,
   "id": "4c73dfa1",
   "metadata": {},
   "outputs": [
    {
     "data": {
      "text/plain": [
       "'Credit reporting, repair, or other'"
      ]
     },
     "execution_count": 69,
     "metadata": {},
     "output_type": "execute_result"
    }
   ],
   "source": [
    "rdf.iloc[579110 -1][0]"
   ]
  },
  {
   "cell_type": "code",
   "execution_count": 70,
   "id": "5920f8bb",
   "metadata": {},
   "outputs": [
    {
     "data": {
      "text/plain": [
       "'I have repeatedly tried to request new Rez to remove the late from XX/XX/XXXX on my credit report. This was an accurately reported as the system was down when I tried to make my payment at the end of the month which would not have been late. I do that every month with no issues. I have snapshots showing that the system was down yet they are coming back saying that they have no login information for me during that day which is crazy because the system is clearly down and why theres a glitch and them not showing me logged in. I obviously have snapshots showing that the system was down which wouldnt have taken place after the fact because the date on the snapshots indicate the system being down on XXXX XXXX. They keep coming up with excuses why they wont remove it and at minimally I would requested to be done as a courtesy even though out of principle it should be done Ive been a loyal customer and Ive never been late on my payment to them. Is clearly was a system error and I refuse to let this go. I am correct and I am very upset and frustrated that they have negatively reported this on my credit report when I have been a loyal customer and have proven to them with many snapshots that I tried to login and was unsuccessful due to the system error and then going down. Hi again kindly ask that somebody please review this without giving me the response the system wasnt down because it was And remove my late from the credit report as I am trying to refinance my house and this is hurting me to do so I am trying to refinance directly with their company yet they still want to charge me a late. This is ridiculous and an unacceptable and I will not give up fighting this because I was not late nor have I ever been late. Please review this to be removed off my credit report and updated as the payment was made first thing the following morning when the system went back up. Please Remove the late off my credit report from XX/XX/XXXX.'"
      ]
     },
     "execution_count": 70,
     "metadata": {},
     "output_type": "execute_result"
    }
   ],
   "source": [
    "rdf.iloc[579110 -1][1]"
   ]
  },
  {
   "cell_type": "code",
   "execution_count": null,
   "id": "7067bb9b",
   "metadata": {},
   "outputs": [],
   "source": []
  },
  {
   "cell_type": "code",
   "execution_count": 71,
   "id": "6d9d0525",
   "metadata": {},
   "outputs": [],
   "source": [
    "def predict(new_comp):\n",
    "    return model.predict(fitted_vectorizer.transform([new_comp]))"
   ]
  },
  {
   "cell_type": "code",
   "execution_count": 72,
   "id": "1be98c6a",
   "metadata": {},
   "outputs": [
    {
     "name": "stdout",
     "output_type": "stream",
     "text": [
      "['Credit reporting, repair, or other']\n"
     ]
    }
   ],
   "source": [
    "new_complaint = 'I have repeatedly tried to request new Rez to remove the late from XX/XX/XXXX on my credit report. This was an accurately reported as the system was down when I tried to make my payment at the end of the month which would not have been late. I do that every month with no issues. I have snapshots showing that the system was down yet they are coming back saying that they have no login information for me during that day which is crazy because the system is clearly down and why theres a glitch and them not showing me logged in. I obviously have snapshots showing that the system was down which wouldnt have taken place after the fact because the date on the snapshots indicate the system being down on XXXX XXXX. They keep coming up with excuses why they wont remove it and at minimally I would requested to be done as a courtesy even though out of principle it should be done Ive been a loyal customer and Ive never been late on my payment to them. Is clearly was a system error and I refuse to let this go. I am correct and I am very upset and frustrated that they have negatively reported this on my credit report when I have been a loyal customer and have proven to them with many snapshots that I tried to login and was unsuccessful due to the system error and then going down. Hi again kindly ask that somebody please review this without giving me the response the system wasnt down because it was And remove my late from the credit report as I am trying to refinance my house and this is hurting me to do so I am trying to refinance directly with their company yet they still want to charge me a late. This is ridiculous and an unacceptable and I will not give up fighting this because I was not late nor have I ever been late. Please review this to be removed off my credit report and updated as the payment was made first thing the following morning when the system went back up. Please Remove the late off my credit report from XX/XX/XXXX.'\n",
    "print(predict(new_complaint))"
   ]
  },
  {
   "cell_type": "code",
   "execution_count": 73,
   "id": "d078aaa2",
   "metadata": {},
   "outputs": [
    {
     "name": "stdout",
     "output_type": "stream",
     "text": [
      "['Mortgage']\n",
      "Mortgage\n"
     ]
    }
   ],
   "source": [
    "complaint = rdf.iloc[0][1]\n",
    "print(predict(complaint))\n",
    "print(rdf.iloc[0][0])"
   ]
  },
  {
   "cell_type": "code",
   "execution_count": null,
   "id": "6f66ef07",
   "metadata": {},
   "outputs": [],
   "source": []
  }
 ],
 "metadata": {
  "kernelspec": {
   "display_name": "Python 3 (ipykernel)",
   "language": "python",
   "name": "python3"
  },
  "language_info": {
   "codemirror_mode": {
    "name": "ipython",
    "version": 3
   },
   "file_extension": ".py",
   "mimetype": "text/x-python",
   "name": "python",
   "nbconvert_exporter": "python",
   "pygments_lexer": "ipython3",
   "version": "3.11.2"
  }
 },
 "nbformat": 4,
 "nbformat_minor": 5
}
